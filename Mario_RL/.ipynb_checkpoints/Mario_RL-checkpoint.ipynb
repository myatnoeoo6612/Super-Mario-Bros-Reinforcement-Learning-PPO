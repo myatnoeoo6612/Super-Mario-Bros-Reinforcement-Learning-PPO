{
 "cells": [
  {
   "cell_type": "code",
   "execution_count": null,
   "id": "f6e13375-05bd-48ec-9026-78243b67e317",
   "metadata": {},
   "outputs": [],
   "source": [
    "%config Completer.use_jedi = False"
   ]
  },
  {
   "cell_type": "markdown",
   "id": "1bcc19d3-7402-43dc-9056-9a018f8cb3ab",
   "metadata": {},
   "source": [
    "# Super Mario Bros Reinforcement Learning\n",
    "\n",
    "## Introduction\n",
    "This project aims to develop a [project description]. The main objectives are to [list objectives]. \n",
    "\n",
    "## Data\n",
    "The dataset used in this project is [dataset name]. It contains [brief description of the data, including the number of samples, features, etc.].\n",
    "\n",
    "## Methods\n",
    "1. **Data Preprocessing:** Describe the data preprocessing steps, including any cleaning, normalization, or feature engineering techniques used.\n",
    "2. **Modeling:** Explain the models used in the project. This could include algorithms like linear regression, decision trees, SVM, etc.\n",
    "3. **Evaluation:** Describe how the models are evaluated. Mention the metrics used (e.g., accuracy, precision, recall, F1-score).\n",
    "\n",
    "## Results\n",
    "Present the results of the modeling and evaluation. Include any visualizations, tables, or charts that help illustrate the performance of the models.\n",
    "\n",
    "## Conclusion\n",
    "Summarize the key findings of the project. Discuss any limitations and potential future work.\n",
    "\n",
    "## References\n",
    "List any references or resources used in the project.\n"
   ]
  },
  {
   "cell_type": "code",
   "execution_count": 1,
   "id": "51b9c5db-6a91-4ee4-9b2d-c59951fc7079",
   "metadata": {},
   "outputs": [],
   "source": [
    "#!pip install gym-super-mario-bros==7.3.0 nes_py"
   ]
  },
  {
   "cell_type": "markdown",
   "id": "0e6da420-67b2-47f9-85d0-b71bfd906a25",
   "metadata": {},
   "source": [
    "## Methods\n",
    "\n",
    "1. **import the game** \n",
    "2. **import the Joypad wrapper**\n",
    "3. **import the SIMPLIFIED controls**"
   ]
  },
  {
   "cell_type": "code",
   "execution_count": 2,
   "id": "1f95c89a-8489-47b8-ab3f-1ba0599bc10e",
   "metadata": {},
   "outputs": [],
   "source": [
    "# Add this to suppress verbose traceback in IPython\n",
    "import sys\n",
    "from IPython.core.interactiveshell import InteractiveShell\n",
    "\n",
    "InteractiveShell.showtraceback = lambda self, *args, **kwargs: sys.__excepthook__(*args)"
   ]
  },
  {
   "cell_type": "code",
   "execution_count": 3,
   "id": "02fc0e6a-5e65-4f9c-a126-7c74a022bfab",
   "metadata": {},
   "outputs": [],
   "source": [
    "from gym_super_mario_bros import make\n",
    "from nes_py.wrappers import JoypadSpace\n",
    "from gym_super_mario_bros.actions import SIMPLE_MOVEMENT\n",
    "import gym"
   ]
  },
  {
   "cell_type": "code",
   "execution_count": 4,
   "id": "dfd8ceff-f259-4f7b-bd0e-273da9a87c4a",
   "metadata": {},
   "outputs": [
    {
     "data": {
      "text/plain": [
       "[['NOOP'],\n",
       " ['right'],\n",
       " ['right', 'A'],\n",
       " ['right', 'B'],\n",
       " ['right', 'A', 'B'],\n",
       " ['A'],\n",
       " ['left']]"
      ]
     },
     "execution_count": 4,
     "metadata": {},
     "output_type": "execute_result"
    }
   ],
   "source": [
    "SIMPLE_MOVEMENT"
   ]
  },
  {
   "cell_type": "code",
   "execution_count": 5,
   "id": "c570ac26-c209-410c-8d64-edeacce1f217",
   "metadata": {},
   "outputs": [],
   "source": [
    "#Setup game\n",
    "env = make('SuperMarioBros-v0')\n",
    "env = JoypadSpace(env, SIMPLE_MOVEMENT)"
   ]
  },
  {
   "cell_type": "code",
   "execution_count": 6,
   "id": "3007f8b5-da7c-44e9-b837-2a2453b15618",
   "metadata": {},
   "outputs": [
    {
     "data": {
      "text/plain": [
       "(240, 256, 3)"
      ]
     },
     "execution_count": 6,
     "metadata": {},
     "output_type": "execute_result"
    }
   ],
   "source": [
    "env.observation_space.shape"
   ]
  },
  {
   "cell_type": "code",
   "execution_count": 7,
   "id": "d7d7aa87-a628-49af-b1dc-9a392383b467",
   "metadata": {},
   "outputs": [
    {
     "data": {
      "text/plain": [
       "['A']"
      ]
     },
     "execution_count": 7,
     "metadata": {},
     "output_type": "execute_result"
    }
   ],
   "source": [
    "SIMPLE_MOVEMENT[env.action_space.sample()]"
   ]
  },
  {
   "cell_type": "code",
   "execution_count": 8,
   "id": "701be153-b20a-4fa8-99a4-cc6ff4c893d1",
   "metadata": {},
   "outputs": [
    {
     "data": {
      "text/plain": [
       "(240, 256, 3)"
      ]
     },
     "execution_count": 8,
     "metadata": {},
     "output_type": "execute_result"
    }
   ],
   "source": [
    "state = env.reset()\n",
    "state.shape"
   ]
  },
  {
   "cell_type": "code",
   "execution_count": 9,
   "id": "9f345c9e-1eb8-4149-b363-fcf7031446c1",
   "metadata": {},
   "outputs": [
    {
     "data": {
      "text/plain": [
       "{'coins': 0,\n",
       " 'flag_get': False,\n",
       " 'life': 2,\n",
       " 'score': 0,\n",
       " 'stage': 1,\n",
       " 'status': 'small',\n",
       " 'time': 400,\n",
       " 'world': 1,\n",
       " 'x_pos': 40,\n",
       " 'x_pos_screen': 40,\n",
       " 'y_pos': 79}"
      ]
     },
     "execution_count": 9,
     "metadata": {},
     "output_type": "execute_result"
    }
   ],
   "source": [
    "env.step(1)[3]"
   ]
  },
  {
   "cell_type": "code",
   "execution_count": null,
   "id": "935cbb3c-0a9e-4abd-90d2-1d4f5f6f9074",
   "metadata": {},
   "outputs": [],
   "source": [
    "#create a flag - restart or not\n",
    "done = True\n",
    "# Loop through each frame in the game\n",
    "for step in range(10000):\n",
    "    # Start the game to begin with\n",
    "    if done:\n",
    "        # Start the game\n",
    "        state = env.reset()\n",
    "    # Do random actions\n",
    "    state, reward, done, info = env.step(env.action_space.sample())\n",
    "    # Show the game on the screen\n",
    "    env.render()\n",
    "\n",
    "# Close the game\n",
    "env.close()"
   ]
  },
  {
   "cell_type": "code",
   "execution_count": null,
   "id": "1e8c1f59-c3d6-4a2a-98e1-1bd185ceb6fa",
   "metadata": {},
   "outputs": [],
   "source": [
    "env.close()"
   ]
  },
  {
   "cell_type": "markdown",
   "id": "27a81828-2345-4b1f-92c5-c59092186fe9",
   "metadata": {},
   "source": [
    "## Preprocessing Enviroments"
   ]
  },
  {
   "cell_type": "code",
   "execution_count": 10,
   "id": "c6fde25d-7de5-47b6-bce3-d31f7b22ce19",
   "metadata": {},
   "outputs": [],
   "source": [
    "#import Frame Stacker Wrapper and GrayScalig Wrapper\n",
    "from gym.wrappers import FrameStack, GrayScaleObservation\n",
    "#import Vectorization Wrapper\n",
    "from stable_baselines3.common.vec_env import VecFrameStack, DummyVecEnv\n",
    "#import Matplotlib\n",
    "from matplotlib import pyplot as plt"
   ]
  },
  {
   "cell_type": "code",
   "execution_count": 16,
   "id": "3e9f51a4-1efa-4074-8b00-5fd01f25945c",
   "metadata": {},
   "outputs": [],
   "source": [
    "#1. Create the base enviroment\n",
    "env = gym_super_mario_bros.make('SuperMarioBros-v0')\n",
    "#2. Simplify the controls\n",
    "env = JoypadSpace(env, SIMPLE_MOVEMENT)\n",
    "#3. Grayscale\n",
    "env = GrayScaleObservation(env)\n",
    "#4. Wrap inside the Dummy Environment\n",
    "#5. Stack the frames"
   ]
  },
  {
   "cell_type": "code",
   "execution_count": 17,
   "id": "d71d6bbb-4641-4710-b3a4-4fe906cc954e",
   "metadata": {},
   "outputs": [
    {
     "name": "stdout",
     "output_type": "stream",
     "text": [
      "ERROR! Session/line number was not unique in database. History logging moved to new session 50\n"
     ]
    }
   ],
   "source": [
    "state = env.reset()"
   ]
  },
  {
   "cell_type": "code",
   "execution_count": 16,
   "id": "5db2289e-dcfd-44a7-9fa0-f1aecdab683c",
   "metadata": {},
   "outputs": [
    {
     "data": {
      "text/plain": [
       "(240, 256, 3)"
      ]
     },
     "execution_count": 16,
     "metadata": {},
     "output_type": "execute_result"
    }
   ],
   "source": [
    "state.shape"
   ]
  },
  {
   "cell_type": "code",
   "execution_count": 13,
   "id": "40d43ee7-7c4c-4e23-a1bd-a33d42a91f88",
   "metadata": {},
   "outputs": [
    {
     "data": {
      "text/plain": [
       "<matplotlib.image.AxesImage at 0x7fb0c2863550>"
      ]
     },
     "execution_count": 13,
     "metadata": {},
     "output_type": "execute_result"
    },
    {
     "data": {
      "image/png": "[encoded data removed]",
      "text/plain": [
       "<Figure size 640x480 with 1 Axes>"
      ]
     },
     "metadata": {},
     "output_type": "display_data"
    }
   ],
   "source": [
    "# use Matplotlib to show the game frame\n",
    "plt.imshow(state)"
   ]
  },
  {
   "cell_type": "code",
   "execution_count": null,
   "id": "c4617928-7428-4eae-829e-0150e3520596",
   "metadata": {},
   "outputs": [],
   "source": []
  }
 ],
 "metadata": {
  "kernelspec": {
   "display_name": "Python 3 (ipykernel)",
   "language": "python",
   "name": "python3"
  },
  "language_info": {
   "codemirror_mode": {
    "name": "ipython",
    "version": 3
   },
   "file_extension": ".py",
   "mimetype": "text/x-python",
   "name": "python",
   "nbconvert_exporter": "python",
   "pygments_lexer": "ipython3",
   "version": "3.8.10"
  }
 },
 "nbformat": 4,
 "nbformat_minor": 5
}
